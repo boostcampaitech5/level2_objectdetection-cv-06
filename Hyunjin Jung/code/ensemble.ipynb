{
 "cells": [
  {
   "cell_type": "code",
   "execution_count": 1,
   "metadata": {},
   "outputs": [],
   "source": [
    "from ensemble_boxes import *\n",
    "import pandas as pd\n",
    "import numpy as np"
   ]
  },
  {
   "cell_type": "code",
   "execution_count": 27,
   "metadata": {},
   "outputs": [
    {
     "data": {
      "text/html": [
       "<div>\n",
       "<style scoped>\n",
       "    .dataframe tbody tr th:only-of-type {\n",
       "        vertical-align: middle;\n",
       "    }\n",
       "\n",
       "    .dataframe tbody tr th {\n",
       "        vertical-align: top;\n",
       "    }\n",
       "\n",
       "    .dataframe thead th {\n",
       "        text-align: right;\n",
       "    }\n",
       "</style>\n",
       "<table border=\"1\" class=\"dataframe\">\n",
       "  <thead>\n",
       "    <tr style=\"text-align: right;\">\n",
       "      <th></th>\n",
       "      <th>PredictionString</th>\n",
       "      <th>image_id</th>\n",
       "    </tr>\n",
       "  </thead>\n",
       "  <tbody>\n",
       "    <tr>\n",
       "      <th>0</th>\n",
       "      <td>0 0.07436533 24.516418 310.31064 228.86052 438...</td>\n",
       "      <td>test/0000.jpg</td>\n",
       "    </tr>\n",
       "    <tr>\n",
       "      <th>1</th>\n",
       "      <td>0 0.051838454 135.54947 3.022766 310.5842 270....</td>\n",
       "      <td>test/0001.jpg</td>\n",
       "    </tr>\n",
       "    <tr>\n",
       "      <th>2</th>\n",
       "      <td>0 0.07860429 0.0 225.59164 163.30222 254.09439...</td>\n",
       "      <td>test/0002.jpg</td>\n",
       "    </tr>\n",
       "    <tr>\n",
       "      <th>3</th>\n",
       "      <td>0 0.05273235 0.0 24.617798 522.2323 1017.9741 ...</td>\n",
       "      <td>test/0003.jpg</td>\n",
       "    </tr>\n",
       "    <tr>\n",
       "      <th>4</th>\n",
       "      <td>0 0.57932156 130.69745 370.28705 906.7723 765....</td>\n",
       "      <td>test/0004.jpg</td>\n",
       "    </tr>\n",
       "  </tbody>\n",
       "</table>\n",
       "</div>"
      ],
      "text/plain": [
       "                                    PredictionString       image_id\n",
       "0  0 0.07436533 24.516418 310.31064 228.86052 438...  test/0000.jpg\n",
       "1  0 0.051838454 135.54947 3.022766 310.5842 270....  test/0001.jpg\n",
       "2  0 0.07860429 0.0 225.59164 163.30222 254.09439...  test/0002.jpg\n",
       "3  0 0.05273235 0.0 24.617798 522.2323 1017.9741 ...  test/0003.jpg\n",
       "4  0 0.57932156 130.69745 370.28705 906.7723 765....  test/0004.jpg"
      ]
     },
     "execution_count": 27,
     "metadata": {},
     "output_type": "execute_result"
    }
   ],
   "source": [
    "predictions = []\n",
    "predictions.append(pd.read_csv(\"./work_dirs/2023_05_11_20_36_05_FasterRCNN_SGKF_0/submission_latest.csv\"))\n",
    "predictions.append(pd.read_csv(\"./work_dirs/2023_05_12_01_40_01_FasterRCNN_SGKF_4/submission_latest.csv\"))\n",
    "#predictions.append(pd.read_csv(\"./work_dirs/2023_05_11_23_27_17_FasterRCNN_SGKF_2/submission_latest.csv\"))\n",
    "\n",
    "prediction_strings = []\n",
    "file_names = []\n",
    "\n",
    "for img_idx in range(len(predictions[0])):\n",
    "\n",
    "    boxes_list = []\n",
    "    scores_list = []\n",
    "    labels_list = []\n",
    "\n",
    "    for model_idx in range(len(predictions)): \n",
    "        pred_str = predictions[model_idx].loc[img_idx]['PredictionString']\n",
    "        if str(type(pred_str)) != \"<class 'str'>\":\n",
    "            break\n",
    "        else:\n",
    "            pred = np.array(pred_str.strip().split(\" \")).reshape(-1,6)\n",
    "\n",
    "            box = pred[:, 2:].astype(np.float64)/1024  # 0~1 normalize\n",
    "            score = pred[:, 1].astype(np.float64).flatten()\n",
    "            label = pred[:, 0].astype(np.int64).flatten()\n",
    "\n",
    "        boxes_list.append(box)\n",
    "        scores_list.append(score)\n",
    "        labels_list.append(label)\n",
    "    \n",
    "    \n",
    "    boxes, scores, labels = nms(boxes_list, scores_list, labels_list, iou_thr=0.55)\n",
    "    #category로 정렬\n",
    "    sorted_data = sorted(zip(labels.tolist(), boxes.tolist(), scores.tolist()))\n",
    "    sorted_labels, sorted_boxes, sorted_scores = zip(*sorted_data)\n",
    "\n",
    "    prediction_string = \"\"\n",
    "    for i in range(len(boxes)):\n",
    "        prediction_string += str(int(sorted_labels[i])) + ' ' + str(sorted_scores[i]) + ' ' + str(sorted_boxes[i][0]*1024) + ' ' + str(sorted_boxes[i][1]*1024) + ' ' + str(sorted_boxes[i][2]*1024) + ' ' + str(sorted_boxes[i][3]*1024) + ' '\n",
    "    prediction_strings.append(prediction_string)\n",
    "    file_names.append(predictions[model_idx].loc[img_idx][\"image_id\"])\n",
    "\n",
    "submission = pd.DataFrame()\n",
    "submission['PredictionString'] = prediction_strings\n",
    "submission['image_id'] = file_names\n",
    "submission.to_csv(\"./work_dirs/submission/ensemble_nms(0,4).csv\", index=None)\n",
    "submission.head()"
   ]
  },
  {
   "cell_type": "code",
   "execution_count": null,
   "metadata": {},
   "outputs": [],
   "source": []
  }
 ],
 "metadata": {
  "kernelspec": {
   "display_name": "detection",
   "language": "python",
   "name": "python3"
  },
  "language_info": {
   "codemirror_mode": {
    "name": "ipython",
    "version": 3
   },
   "file_extension": ".py",
   "mimetype": "text/x-python",
   "name": "python",
   "nbconvert_exporter": "python",
   "pygments_lexer": "ipython3",
   "version": "3.7.16"
  },
  "orig_nbformat": 4
 },
 "nbformat": 4,
 "nbformat_minor": 2
}
